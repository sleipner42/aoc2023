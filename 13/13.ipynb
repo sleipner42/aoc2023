{
 "cells": [
  {
   "cell_type": "code",
   "execution_count": 111,
   "metadata": {},
   "outputs": [],
   "source": [
    "import regex as re\n",
    "import numpy as np\n",
    "from tqdm import tqdm\n",
    "\n",
    "with open(\"data.txt\") as file:\n",
    "    data = file.read()"
   ]
  },
  {
   "cell_type": "code",
   "execution_count": 112,
   "metadata": {},
   "outputs": [
    {
     "data": {
      "text/plain": [
       "37975"
      ]
     },
     "execution_count": 112,
     "metadata": {},
     "output_type": "execute_result"
    }
   ],
   "source": [
    "total = 0\n",
    "\n",
    "def find_reflection(line):\n",
    "\n",
    "    all_reflections = []\n",
    "\n",
    "    for n in range(line.shape[1]//2):\n",
    "        \n",
    "        f1 = line[:, 0:n + 1]\n",
    "        f2 = line[:, n+1:n+1+f1.shape[1]]\n",
    "\n",
    "        if (f1 == f2[:, ::-1]).all():\n",
    "            all_reflections.append(n + 1)\n",
    "\n",
    "        f1 = line[:, line.shape[1]-n-1:line.shape[1]]\n",
    "        f2 = line[:, line.shape[1]-n-f1.shape[1]-1:line.shape[1] - n -1]\n",
    "\n",
    "        if (f1 == f2[:,::-1]).all():\n",
    "            all_reflections.append(line.shape[1] - n - 1)\n",
    "\n",
    "    for n in range(line.shape[0]//2):\n",
    "        \n",
    "        f1 = line[0:n + 1, :]\n",
    "        f2 = line[n+1:n+1+f1.shape[0], :]\n",
    "\n",
    "        if (f1 == f2[::-1, :]).all():\n",
    "            all_reflections.append((n + 1)*100)\n",
    "\n",
    "        f1 = line[line.shape[0]-n-1:line.shape[0], :]\n",
    "        f2 = line[line.shape[0]-n-f1.shape[0]-1:line.shape[0] - n -1, :]\n",
    "\n",
    "        if (f1 == f2[::-1,:]).all():\n",
    "            all_reflections.append((line.shape[0] - n - 1)*100)\n",
    "    \n",
    "    return all_reflections\n",
    "\n",
    "for line in data.split('\\n\\n'):\n",
    "    line = np.array(list(map(list, line.splitlines())))\n",
    "    total += find_reflection(line)[0]\n",
    "\n",
    "total"
   ]
  },
  {
   "cell_type": "code",
   "execution_count": 113,
   "metadata": {},
   "outputs": [
    {
     "data": {
      "text/plain": [
       "32497.0"
      ]
     },
     "execution_count": 113,
     "metadata": {},
     "output_type": "execute_result"
    }
   ],
   "source": [
    "chn = {\n",
    "    '.' : '#',\n",
    "    '#' : '.'\n",
    "}\n",
    "\n",
    "total = 0\n",
    "\n",
    "for line in data.split('\\n\\n'):\n",
    "\n",
    "    line = np.array(list(map(list, line.splitlines())))\n",
    "    original = set(find_reflection(line))\n",
    "\n",
    "    for x in range(line.shape[0]):\n",
    "        for y in range(line.shape[1]):\n",
    "            \n",
    "            temp_map = line.copy()\n",
    "            temp_map[x, y] = chn[temp_map[x, y]]\n",
    "\n",
    "            reflection = find_reflection(temp_map)\n",
    "            reflection = set(reflection) - original\n",
    "            if reflection:\n",
    "                total += list(reflection)[0]\n",
    "\n",
    "total/2"
   ]
  }
 ],
 "metadata": {
  "kernelspec": {
   "display_name": "Python 3",
   "language": "python",
   "name": "python3"
  },
  "language_info": {
   "codemirror_mode": {
    "name": "ipython",
    "version": 3
   },
   "file_extension": ".py",
   "mimetype": "text/x-python",
   "name": "python",
   "nbconvert_exporter": "python",
   "pygments_lexer": "ipython3",
   "version": "3.11.4"
  }
 },
 "nbformat": 4,
 "nbformat_minor": 2
}
