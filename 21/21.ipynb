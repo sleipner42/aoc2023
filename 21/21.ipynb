{
 "cells": [
  {
   "cell_type": "code",
   "execution_count": 1,
   "metadata": {},
   "outputs": [],
   "source": [
    "import numpy as np\n",
    "import heapq as heap\n",
    "\n",
    "with open(\"data.txt\") as file:\n",
    "    data = file.read()\n",
    "\n",
    "data = np.array([list(line) for line in data.splitlines()])\n",
    "dim = data.shape\n",
    "start = np.argwhere(data == \"S\")[0]\n",
    "data[*start] = \".\"\n",
    "steps = 64\n",
    "\n",
    "uncreachables = [[14,  6],\n",
    "       [36, 40],\n",
    "       [38, 40],\n",
    "       [58, 98],\n",
    "       [92, 68]]\n",
    "\n",
    "for n in uncreachables:\n",
    "    data[*n] = \"#\""
   ]
  },
  {
   "cell_type": "code",
   "execution_count": 2,
   "metadata": {},
   "outputs": [],
   "source": [
    "dirs = [(0,1), (0,-1), (1, 0), (-1,0)]\n",
    "\n",
    "def get_neighbours(y, x, data, walls=True):\n",
    "\n",
    "    neighs = []\n",
    "    dim = data.shape\n",
    "    \n",
    "    for dir in dirs:\n",
    "        neighs.append((y + dir[0], x + dir[1]))\n",
    "\n",
    "    neighs = [n for n in neighs if n[0] >= 0 and n[0] < dim[0]]\n",
    "    neighs = [n for n in neighs if n[1] >= 0 and n[1] < dim[1]]\n",
    "    neighs = [n for n in neighs if data[n[0], n[1]] == \".\"] if walls else neighs\n",
    "\n",
    "    return set(neighs)"
   ]
  },
  {
   "cell_type": "code",
   "execution_count": 3,
   "metadata": {},
   "outputs": [
    {
     "data": {
      "text/plain": [
       "3847"
      ]
     },
     "execution_count": 3,
     "metadata": {},
     "output_type": "execute_result"
    }
   ],
   "source": [
    "def search(data, start, walls=True):\n",
    "\n",
    "    costs = np.ones(data.shape) * np.inf\n",
    "    costs[start[0], start[1]] = 0\n",
    "\n",
    "    visited = set()\n",
    "\n",
    "    pq = []\n",
    "\n",
    "    heap.heappush(pq, (0, (start[0], start[1])))\n",
    "\n",
    "    while pq:\n",
    "\n",
    "        _, node = heap.heappop(pq)\n",
    "        visited.add(node)\n",
    "\n",
    "        for adj_node in get_neighbours(*node, data, walls):\n",
    "            if adj_node in visited: continue\n",
    "            newCost = costs[node] + 1\n",
    "\n",
    "            if costs[adj_node] > newCost:\n",
    "                costs[adj_node] = newCost\n",
    "                heap.heappush(pq, (newCost, adj_node))\n",
    "\n",
    "\n",
    "    return costs\n",
    "\n",
    "w = []\n",
    "\n",
    "for start in [(0,0), (0,130), (130, 0), (130, 130), (65,65)]:\n",
    "    costs = search(data, start, walls=False) \n",
    "    walls = data[costs <= 65]\n",
    "    walls = (walls == \"#\").sum()\n",
    "\n",
    "    w.append(walls)\n",
    "\n",
    "costs = search(data, (65,65), walls=True)\n",
    "tmp = costs[costs <= 65]\n",
    "((steps - tmp) % 2 == 1).sum()"
   ]
  },
  {
   "cell_type": "code",
   "execution_count": 4,
   "metadata": {},
   "outputs": [
    {
     "data": {
      "text/plain": [
       "618261433219147"
      ]
     },
     "execution_count": 4,
     "metadata": {},
     "output_type": "execute_result"
    }
   ],
   "source": [
    "steps = 26501365\n",
    "factor = (steps * 2 + 1) / dim[0]\n",
    "\n",
    "full_cubes = ((factor // 2) ** 2) * 2 - (factor - 2)\n",
    "points_inside = (steps * 2 + 1)**2 / 2 + 0.5\n",
    "\n",
    "sides = factor - 2\n",
    "\n",
    "s1 = sides // 2\n",
    "s2 = sides - s1\n",
    "\n",
    "\n",
    "all_walls = sum(w) * full_cubes\n",
    "\n",
    "# top corner\n",
    "all_walls += w[2] + w[3] + w[4]\n",
    "\n",
    "# left corner\n",
    "all_walls += w[1] + w[3] + w[4]\n",
    "\n",
    "# right corner\n",
    "all_walls += w[0] + w[4] + w[2]\n",
    "\n",
    "# bottom corner\n",
    "all_walls += w[0] + w[1] + w[4]\n",
    "\n",
    "# top -> right\n",
    "all_walls += s2 * w[2] + s1 * (sum(w) - w[1])\n",
    "\n",
    "# right -> bottom\n",
    "all_walls += s2 * w[0] + s1 * (sum(w) - w[3])\n",
    "\n",
    "# bottom -> left\n",
    "all_walls += s2 * w[1] + s1 * (sum(w) - w[2])\n",
    "\n",
    "# rileftght -> top\n",
    "all_walls += s2 * w[3] + s1 * (sum(w) - w[0])\n",
    " \n",
    "int((points_inside - all_walls + 104 * factor) / 2)"
   ]
  }
 ],
 "metadata": {
  "kernelspec": {
   "display_name": "Python 3",
   "language": "python",
   "name": "python3"
  },
  "language_info": {
   "codemirror_mode": {
    "name": "ipython",
    "version": 3
   },
   "file_extension": ".py",
   "mimetype": "text/x-python",
   "name": "python",
   "nbconvert_exporter": "python",
   "pygments_lexer": "ipython3",
   "version": "3.11.4"
  }
 },
 "nbformat": 4,
 "nbformat_minor": 2
}
