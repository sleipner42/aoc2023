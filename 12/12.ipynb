{
 "cells": [
  {
   "cell_type": "code",
   "execution_count": 53,
   "metadata": {},
   "outputs": [],
   "source": [
    "import regex as re\n",
    "import numpy as np\n",
    "from tqdm import tqdm\n",
    "\n",
    "with open(\"data.txt\") as file:\n",
    "    data = file.read()"
   ]
  },
  {
   "cell_type": "code",
   "execution_count": 58,
   "metadata": {},
   "outputs": [
    {
     "name": "stdout",
     "output_type": "stream",
     "text": [
      "7236\n"
     ]
    }
   ],
   "source": [
    "cache = {}\n",
    "\n",
    "def get_matches(text, number):\n",
    "\n",
    "    matches = []\n",
    "\n",
    "    for n in range(len(text)):\n",
    "\n",
    "        prev = text[n-1] if n > 0 else \".\"\n",
    "        temp = text[n:number + n]\n",
    "        margin = text[number + n] if (n + number) < len(text) else \".\"\n",
    "        rest = text[number + n + 1:]\n",
    "\n",
    "        if margin in ['?','.'] and prev in ['?','.']:\n",
    "            if re.search(\"[?#]{n}\".replace(\"n\", str(number)), temp) and \"#\" not in text[:n]:\n",
    "                matches.append(rest)\n",
    "\n",
    "    return matches\n",
    "\n",
    "def find_nr_solutions(groups, order):\n",
    "\n",
    "    if (groups, order) in cache.keys():\n",
    "        return cache[(groups, order)]\n",
    "\n",
    "    if len(order) == 0:\n",
    "        if \"#\" in groups:\n",
    "            return 0\n",
    "        return 1\n",
    "\n",
    "    length = order[0]\n",
    "    total_left = order[1:]\n",
    "    nr_solutions = 0\n",
    "\n",
    "    for possible in get_matches(groups, length):\n",
    "        nr_solutions += find_nr_solutions(possible, total_left)\n",
    "\n",
    "    cache[(groups, order)] = nr_solutions\n",
    "\n",
    "    return nr_solutions\n",
    "\n",
    "print(sum([find_nr_solutions(line.split()[0], eval(line.split()[1])) for line in data.splitlines()]))\n",
    "print(sum([find_nr_solutions(\"?\".join([line.split()[0]] * 5), eval(line.split()[1])*5) for line in data.splitlines()]))"
   ]
  }
 ],
 "metadata": {
  "kernelspec": {
   "display_name": "Python 3",
   "language": "python",
   "name": "python3"
  },
  "language_info": {
   "codemirror_mode": {
    "name": "ipython",
    "version": 3
   },
   "file_extension": ".py",
   "mimetype": "text/x-python",
   "name": "python",
   "nbconvert_exporter": "python",
   "pygments_lexer": "ipython3",
   "version": "3.11.4"
  }
 },
 "nbformat": 4,
 "nbformat_minor": 2
}
