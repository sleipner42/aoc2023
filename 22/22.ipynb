{
 "cells": [
  {
   "cell_type": "code",
   "execution_count": 278,
   "metadata": {},
   "outputs": [],
   "source": [
    "from tqdm import tqdm\n",
    "import copy\n",
    "\n",
    "with open(\"data.txt\") as file:\n",
    "    data = file.read().splitlines()\n",
    "\n",
    "class Block:\n",
    "\n",
    "    def __init__(self, cords) -> None:\n",
    "        c1, c2 = cords.split(\"~\")\n",
    "        c1 = [int(a) for a in c1.split(\",\")]\n",
    "        c2 = [int(a) for a in c2.split(\",\")]\n",
    "\n",
    "        self.set_cords(c1, c2)\n",
    "\n",
    "    \n",
    "    def set_cords(self, c1, c2):\n",
    "\n",
    "        self.cords = set()\n",
    "\n",
    "        for x in range(c1[0], c2[0] + 1):\n",
    "            for y in range(c1[1], c2[1] + 1):\n",
    "                for z in range(c1[2], c2[2] + 1):\n",
    "                    self.cords.add((x,y,z))\n",
    "\n",
    "    def lowest_point(self):\n",
    "       return min([c[2] for c in self.cords])\n",
    "    \n",
    "    def fall(self, other_blocks, simulate = False):\n",
    "\n",
    "        if self.lowest_point() == 0:\n",
    "            return False\n",
    "        \n",
    "        new_cords = set()\n",
    "\n",
    "        for c in self.cords:\n",
    "            new_cords.add((c[0], c[1], c[2] - 1))\n",
    "\n",
    "        other_blocks = set().union(*[block.cords for block in other_blocks if block != self])\n",
    "        \n",
    "        if len(new_cords.intersection(other_blocks)) > 0:\n",
    "            return False\n",
    "\n",
    "        if not simulate:\n",
    "            self.cords = new_cords\n",
    "\n",
    "        return True\n",
    "\n",
    "\n",
    "    def __lt__(self, other):\n",
    "        self.lowest_point() < other.lowest_point()\n",
    "\n",
    "    def __repr__(self) -> str:\n",
    "        return str(self.cords)\n"
   ]
  },
  {
   "cell_type": "code",
   "execution_count": 279,
   "metadata": {},
   "outputs": [],
   "source": [
    "blocks = sorted([Block(cords) for cords in data])\n",
    "falling = True\n",
    "while falling:\n",
    "\n",
    "    falling = any([block.fall(blocks) for block in blocks])\n",
    "    blocks = sorted(blocks)"
   ]
  },
  {
   "cell_type": "code",
   "execution_count": 273,
   "metadata": {},
   "outputs": [
    {
     "name": "stderr",
     "output_type": "stream",
     "text": [
      "100%|██████████| 7/7 [00:00<00:00, 23338.73it/s]\n"
     ]
    },
    {
     "data": {
      "text/plain": [
       "5"
      ]
     },
     "execution_count": 273,
     "metadata": {},
     "output_type": "execute_result"
    }
   ],
   "source": [
    "safe = 0\n",
    "\n",
    "for n in tqdm(range(len(blocks))):\n",
    "    \n",
    "    removed = blocks.pop(0)\n",
    "    for block in blocks:\n",
    "        if block.fall(blocks, simulate=True):\n",
    "            safe += 1\n",
    "            break\n",
    "\n",
    "    blocks.append(removed)\n",
    "\n",
    "len(blocks) - safe"
   ]
  },
  {
   "cell_type": "code",
   "execution_count": 281,
   "metadata": {},
   "outputs": [
    {
     "name": "stderr",
     "output_type": "stream",
     "text": [
      "100%|██████████| 1388/1388 [1:39:22<00:00,  4.30s/it]  \n"
     ]
    },
    {
     "data": {
      "text/plain": [
       "75784"
      ]
     },
     "execution_count": 281,
     "metadata": {},
     "output_type": "execute_result"
    }
   ],
   "source": [
    "safe = 0\n",
    "\n",
    "for n in tqdm(range(len(blocks))):\n",
    "\n",
    "    temp_blocks = [copy.deepcopy(block) for block in blocks]\n",
    "    \n",
    "    removed = temp_blocks.pop(n)\n",
    "    falling_blocks = {block: False for block in temp_blocks}\n",
    "\n",
    "    falling = True\n",
    "\n",
    "    while falling:\n",
    "    \n",
    "        falling = []\n",
    "        for block in temp_blocks:\n",
    "\n",
    "            block_falled = block.fall(temp_blocks)\n",
    "\n",
    "            if block_falled:\n",
    "                falling_blocks[block] = True\n",
    "            \n",
    "            falling.append(block_falled)\n",
    "        \n",
    "        falling = any(falling)\n",
    "    \n",
    "    safe += (sum(falling_blocks.values()))\n",
    "            \n",
    "safe"
   ]
  }
 ],
 "metadata": {
  "kernelspec": {
   "display_name": "Python 3",
   "language": "python",
   "name": "python3"
  },
  "language_info": {
   "codemirror_mode": {
    "name": "ipython",
    "version": 3
   },
   "file_extension": ".py",
   "mimetype": "text/x-python",
   "name": "python",
   "nbconvert_exporter": "python",
   "pygments_lexer": "ipython3",
   "version": "3.11.4"
  }
 },
 "nbformat": 4,
 "nbformat_minor": 2
}
