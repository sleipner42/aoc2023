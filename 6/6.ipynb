{
 "cells": [
  {
   "cell_type": "code",
   "execution_count": 9,
   "metadata": {},
   "outputs": [],
   "source": [
    "import re\n",
    "\n",
    "with open(\"data.txt\") as file:\n",
    "    data = file.read()"
   ]
  },
  {
   "cell_type": "code",
   "execution_count": 24,
   "metadata": {},
   "outputs": [
    {
     "data": {
      "text/plain": [
       "781200"
      ]
     },
     "execution_count": 24,
     "metadata": {},
     "output_type": "execute_result"
    }
   ],
   "source": [
    "times = list(map(int,re.search(\"[\\d ]+\", data.splitlines()[0])[0].split()))\n",
    "records = list(map(int, re.search(\"[\\d ]+\", data.splitlines()[1])[0].split()))\n",
    "\n",
    "nr_of_wins = 1\n",
    "\n",
    "for t, record in zip(times, records):\n",
    "    \n",
    "    time_over_record = [1 for a in range(0, t+1) if (t - a) * a > record]\n",
    "    nr_of_wins*=len(time_over_record)\n",
    "\n",
    "nr_of_wins"
   ]
  },
  {
   "cell_type": "code",
   "execution_count": 21,
   "metadata": {},
   "outputs": [
    {
     "data": {
      "text/plain": [
       "'63789468'"
      ]
     },
     "execution_count": 21,
     "metadata": {},
     "output_type": "execute_result"
    }
   ],
   "source": [
    "t = int(''.join(map(str,times)))\n",
    "record = int(''.join(map(str,records)))\n",
    "time_over_record = [1 for a in range(0, t+1) if (t - a) * a > record]\n",
    "len(time_over_record)"
   ]
  }
 ],
 "metadata": {
  "kernelspec": {
   "display_name": "Python 3",
   "language": "python",
   "name": "python3"
  },
  "language_info": {
   "codemirror_mode": {
    "name": "ipython",
    "version": 3
   },
   "file_extension": ".py",
   "mimetype": "text/x-python",
   "name": "python",
   "nbconvert_exporter": "python",
   "pygments_lexer": "ipython3",
   "version": "3.11.4"
  }
 },
 "nbformat": 4,
 "nbformat_minor": 2
}
