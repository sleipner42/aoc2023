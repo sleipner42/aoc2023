{
 "cells": [
  {
   "cell_type": "code",
   "execution_count": 314,
   "metadata": {},
   "outputs": [],
   "source": [
    "from tqdm import tqdm\n",
    "import numpy as np\n",
    "import heapq as heap\n",
    "\n",
    "with open(\"data.txt\") as file:\n",
    "    data = file.read()\n",
    "\n",
    "data = np.array([list(map(int,list(line))) for line in data.splitlines()])\n",
    "dim = data.shape\n",
    "traffic_map = np.tile([data], (4, 3, 1, 1))\n",
    "traffic_map_2 = np.tile([data], (2, 4, 11, 1, 1))"
   ]
  },
  {
   "cell_type": "code",
   "execution_count": 315,
   "metadata": {},
   "outputs": [
    {
     "data": {
      "text/plain": [
       "859.0"
      ]
     },
     "execution_count": 315,
     "metadata": {},
     "output_type": "execute_result"
    }
   ],
   "source": [
    "dirs = [(0,1), (0,-1), (1, 0), (-1,0)]\n",
    "\n",
    "def get_neighbours(dir, steps, y, x):\n",
    "\n",
    "    neighs = []\n",
    "    current_dir = dirs[dir]\n",
    "\n",
    "    if steps < 2:\n",
    "        # Possible to continue\n",
    "        neighs.append((dir, steps + 1, y + current_dir[0], x + current_dir[1]))\n",
    "    \n",
    "    turn_1 = (current_dir[1], current_dir[0])\n",
    "    turn_2 = (-current_dir[1], -current_dir[0])\n",
    "    \n",
    "    neighs.append((dirs.index(turn_1), 0, y + turn_1[0], x + turn_1[1]))\n",
    "    neighs.append((dirs.index(turn_2), 0, y + turn_2[0], x + turn_2[1]))\n",
    "\n",
    "    neighs = [n for n in neighs if n[2] >= 0 and n[2] < dim[0]]\n",
    "    neighs = [n for n in neighs if n[3] >= 0 and n[3] < dim[1]]\n",
    "\n",
    "    return set(neighs)\n",
    "\n",
    "def search(data, neighbour_func):\n",
    "\n",
    "    costs = np.ones(data.shape) * np.inf\n",
    "    costs[0,0,0,0] = 0\n",
    "    costs[2,0,0,0] = 0\n",
    "    visited = set()\n",
    "\n",
    "    pq = []\n",
    "\n",
    "    heap.heappush(pq, (0, (0,0,0,0)))\n",
    "    heap.heappush(pq, (0, (2,0,0,0)))\n",
    "\n",
    "    while pq:\n",
    "\n",
    "        _, node = heap.heappop(pq)\n",
    "        visited.add(node)\n",
    "\n",
    "        for adj_node in neighbour_func(*node):\n",
    "            if adj_node in visited: continue\n",
    "            newCost = costs[node] + data[adj_node]\n",
    "\n",
    "            if costs[adj_node] > newCost:\n",
    "                costs[adj_node] = newCost\n",
    "                heap.heappush(pq, (newCost, adj_node))\n",
    "\n",
    "\n",
    "    return costs\n",
    "\n",
    "c = search(traffic_map, get_neighbours)\n",
    "c[:, :, -1, -1].min()"
   ]
  },
  {
   "cell_type": "code",
   "execution_count": 322,
   "metadata": {},
   "outputs": [
    {
     "data": {
      "text/plain": [
       "1027.0"
      ]
     },
     "execution_count": 322,
     "metadata": {},
     "output_type": "execute_result"
    }
   ],
   "source": [
    "def get_neighbours_2(crazy, dir, steps, y, x):\n",
    "\n",
    "    neighs = []\n",
    "    current_dir = dirs[dir]\n",
    "\n",
    "    if steps < 10:\n",
    "        new_crazy = 0 if (steps + 1) > 3 else 1\n",
    "        neighs.append((new_crazy, dir, steps + 1, y + current_dir[0], x + current_dir[1]))\n",
    "    \n",
    "    if crazy == 0:\n",
    "        turn_1 = (current_dir[1], current_dir[0])\n",
    "        turn_2 = (-current_dir[1], -current_dir[0])\n",
    "        \n",
    "        neighs.append((1, dirs.index(turn_1), 1, y + turn_1[0], x + turn_1[1]))\n",
    "        neighs.append((1, dirs.index(turn_2), 1, y + turn_2[0], x + turn_2[1]))\n",
    "\n",
    "    neighs = [n for n in neighs if n[3] >= 0 and n[3] < dim[0]]\n",
    "    neighs = [n for n in neighs if n[4] >= 0 and n[4] < dim[1]]\n",
    "\n",
    "    return set(neighs)\n",
    "\n",
    "def search(data, neighbour_func):\n",
    "\n",
    "    costs = np.ones(data.shape) * np.inf\n",
    "    costs[1,0,0,0,0] = 0\n",
    "    costs[1,2,0,0,0] = 0\n",
    "    visited = set()\n",
    "\n",
    "    pq = []\n",
    "\n",
    "    heap.heappush(pq, (0, (1,0,0,0,0)))\n",
    "    heap.heappush(pq, (0, (1,2,0,0,0)))\n",
    "\n",
    "    while pq:\n",
    "\n",
    "        _, node = heap.heappop(pq)\n",
    "        visited.add(node)\n",
    "\n",
    "        for adj_node in neighbour_func(*node):\n",
    "            #print(adj_node)\n",
    "            if adj_node in visited: continue\n",
    "            newCost = costs[node] + data[adj_node]\n",
    "\n",
    "            if costs[adj_node] > newCost:\n",
    "                costs[adj_node] = newCost\n",
    "                heap.heappush(pq, (newCost, adj_node))\n",
    "\n",
    "\n",
    "    return costs\n",
    "\n",
    "c = search(traffic_map_2, get_neighbours_2)\n",
    "c[0, :, :,  -1, -1].min()"
   ]
  }
 ],
 "metadata": {
  "kernelspec": {
   "display_name": "Python 3",
   "language": "python",
   "name": "python3"
  },
  "language_info": {
   "codemirror_mode": {
    "name": "ipython",
    "version": 3
   },
   "file_extension": ".py",
   "mimetype": "text/x-python",
   "name": "python",
   "nbconvert_exporter": "python",
   "pygments_lexer": "ipython3",
   "version": "3.11.4"
  }
 },
 "nbformat": 4,
 "nbformat_minor": 2
}
