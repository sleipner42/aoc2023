{
 "cells": [
  {
   "cell_type": "code",
   "execution_count": 16,
   "metadata": {},
   "outputs": [],
   "source": [
    "from tqdm import tqdm\n",
    "\n",
    "with open(\"data.txt\") as file:\n",
    "    data = file.read()"
   ]
  },
  {
   "cell_type": "code",
   "execution_count": 24,
   "metadata": {},
   "outputs": [
    {
     "data": {
      "text/plain": [
       "6906"
      ]
     },
     "execution_count": 24,
     "metadata": {},
     "output_type": "execute_result"
    }
   ],
   "source": [
    "layout = dict()\n",
    "\n",
    "for y, line in enumerate(data.splitlines()):\n",
    "    for x, c in enumerate(line):\n",
    "        layout[(y,x)] = c\n",
    "\n",
    "def get_energised_tiles(current_cord, heading, seen):\n",
    "\n",
    "    while True:\n",
    "\n",
    "        current_cord = (current_cord[0] + heading[0], current_cord[1] + heading[1])\n",
    "        current_tile = layout.get(current_cord)\n",
    "\n",
    "        if (current_cord, heading) in seen or current_cord not in layout:\n",
    "            break\n",
    "\n",
    "        seen.add((current_cord, heading))\n",
    "\n",
    "        match current_tile:\n",
    "            case \"/\":\n",
    "                heading = (-heading[1], -heading[0])\n",
    "            case \"\\\\\":\n",
    "                heading = (heading[1], heading[0])\n",
    "            case \"-\":\n",
    "                if heading in [(1, 0), (-1, 0)]:\n",
    "                    heading = (0,-1)\n",
    "                    get_energised_tiles(current_cord, (0,1), seen)\n",
    "            case \"|\":\n",
    "               if heading in [(0, -1), (0, 1)]:\n",
    "                   heading = (1,0)\n",
    "                   get_energised_tiles(current_cord, (-1,0), seen)\n",
    "\n",
    "    return len(set([s[0] for s in seen]))\n",
    "\n",
    "get_energised_tiles((0, -1), (0,1), set())"
   ]
  },
  {
   "cell_type": "code",
   "execution_count": 27,
   "metadata": {},
   "outputs": [
    {
     "name": "stderr",
     "output_type": "stream",
     "text": [
      "100%|██████████| 110/110 [00:23<00:00,  4.64it/s]\n"
     ]
    },
    {
     "data": {
      "text/plain": [
       "7330"
      ]
     },
     "execution_count": 27,
     "metadata": {},
     "output_type": "execute_result"
    }
   ],
   "source": [
    "max_energy = 0\n",
    "dim = len(data.splitlines()[0])\n",
    "\n",
    "for n in tqdm(range(dim)):\n",
    "\n",
    "    max_energy = max(max_energy, get_energised_tiles((-1,n), (1,0), set()))\n",
    "    max_energy = max(max_energy, get_energised_tiles((dim,n), (-1,0), set()))\n",
    "    max_energy = max(max_energy, get_energised_tiles((n,-1), (0,1), set()))\n",
    "    max_energy = max(max_energy, get_energised_tiles((n,dim), (0,-1), set()))    \n",
    "\n",
    "max_energy"
   ]
  }
 ],
 "metadata": {
  "kernelspec": {
   "display_name": "Python 3",
   "language": "python",
   "name": "python3"
  },
  "language_info": {
   "codemirror_mode": {
    "name": "ipython",
    "version": 3
   },
   "file_extension": ".py",
   "mimetype": "text/x-python",
   "name": "python",
   "nbconvert_exporter": "python",
   "pygments_lexer": "ipython3",
   "version": "3.11.4"
  }
 },
 "nbformat": 4,
 "nbformat_minor": 2
}
