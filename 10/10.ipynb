{
 "cells": [
  {
   "cell_type": "code",
   "execution_count": 53,
   "metadata": {},
   "outputs": [],
   "source": [
    "import re\n",
    "import numpy as np\n",
    "\n",
    "with open(\"data.txt\") as file:\n",
    "    data = file.read()"
   ]
  },
  {
   "cell_type": "code",
   "execution_count": 54,
   "metadata": {},
   "outputs": [
    {
     "data": {
      "text/plain": [
       "array([70])"
      ]
     },
     "execution_count": 54,
     "metadata": {},
     "output_type": "execute_result"
    }
   ],
   "source": [
    "pipe_map = []\n",
    "length_map = []\n",
    "\n",
    "for line in  data.splitlines():\n",
    "    pipe_map.append(list(line))\n",
    "    length_map.append([0 for _ in range(len(line))])\n",
    "\n",
    "pipe_dict = {\n",
    "    \"|\": [(1, 0), (-1, 0)],\n",
    "    \"-\": [(0, 1), (0, -1)],\n",
    "    \"L\": [(-1, 0), (0, 1)],\n",
    "    \"J\": [(-1, 0), (0, -1)],\n",
    "    \"7\": [(1, 0), (0, -1)],\n",
    "    \"F\": [(1, 0), (0, 1)],\n",
    "}\n",
    "\n",
    "start_cord = [\n",
    "    (y, x)\n",
    "    for y, row in enumerate(pipe_map)\n",
    "    for x, cell in enumerate(row)\n",
    "    if cell == \"S\"\n",
    "][0]\n",
    "\n",
    "start_neighbours = [\n",
    "    (start_cord[0] + 1, start_cord[1]),\n",
    "    (start_cord[0] - 1, start_cord[1]),\n",
    "    (start_cord[0], start_cord[1] + 1),\n",
    "    (start_cord[0], start_cord[1] - 1),\n",
    "]\n",
    "\n",
    "possible_neighbours = []\n",
    "\n",
    "for cord in start_neighbours:\n",
    "    if cord[0] >= 0 and cord[1] >= 0:\n",
    "        pipe = pipe_map[cord[0]][cord[1]]\n",
    "        if pipe != \".\":\n",
    "            pipe_dirs = pipe_dict[pipe]\n",
    "            possible_cords = [\n",
    "                (cord[0] + pipe_dirs[0][0], cord[1] + pipe_dirs[0][1]),\n",
    "                (cord[0] + pipe_dirs[1][0], cord[1] + pipe_dirs[1][1]),\n",
    "            ]\n",
    "            if start_cord in possible_cords:\n",
    "                possible_neighbours.append(cord)\n",
    "\n",
    "\n",
    "def generate_lenghts(last_position, current_position):\n",
    "\n",
    "    count_map = length_map.copy()\n",
    "    steps = 1\n",
    "    path = []\n",
    "\n",
    "    while current_position != start_cord:\n",
    "\n",
    "        count_map[current_position[0]][current_position[1]] = steps\n",
    "\n",
    "        pipe = pipe_map[current_position[0]][current_position[1]]\n",
    "        #print(current_position, pipe)\n",
    "        \n",
    "        pipe_dirs = pipe_dict[pipe]\n",
    "        possible_cords = [\n",
    "            (current_position[0] + pipe_dirs[0][0], current_position[1] + pipe_dirs[0][1]),\n",
    "            (current_position[0] + pipe_dirs[1][0], current_position[1] + pipe_dirs[1][1]),\n",
    "        ]\n",
    "\n",
    "        possible_cords.remove(last_position)\n",
    "        path.append(last_position)\n",
    "        last_position = current_position\n",
    "        current_position = possible_cords[0]\n",
    "        steps += 1\n",
    "    \n",
    "    path.append(last_position)\n",
    "    return np.array(count_map), path\n",
    "\n",
    "path_1, p1 = generate_lenghts(start_cord, possible_neighbours[0])\n",
    "path_2, _ = generate_lenghts(start_cord, possible_neighbours[1])\n",
    "\n",
    "path_1[(path_2 == path_1) & (path_1 != 0) & (path_2 != 0)]"
   ]
  },
  {
   "cell_type": "code",
   "execution_count": 55,
   "metadata": {},
   "outputs": [],
   "source": [
    "inside = []\n",
    "outside = []\n",
    "\n",
    "path_1[start_cord] = 100\n",
    "last_cord = p1[-1]\n",
    "\n",
    "all_cords = {(y, x) for y, row in enumerate(pipe_map) for x, _ in enumerate(row)}\n",
    "\n",
    "left_dir = {\n",
    "    (1, 0): (0, 1),\n",
    "    (-1, 0): (0, -1),\n",
    "    (0, 1): (-1, 0),\n",
    "    (0, -1): (1, 0),\n",
    "}\n",
    "\n",
    "right_dir = {\n",
    "    (1, 0): (0, -1),\n",
    "    (-1, 0): (0, 1),\n",
    "    (0, 1): (1, 0),\n",
    "    (0, -1): (-1, 0),\n",
    "}\n",
    "\n",
    "for current_cord in p1:\n",
    "    pipe = pipe_map[current_cord[0]][current_cord[1]]\n",
    "\n",
    "    heading = np.array(current_cord) - np.array(last_cord)\n",
    "    r_dir = right_dir[tuple(heading)]\n",
    "    l_dir = left_dir[tuple(heading)]\n",
    "\n",
    "    if ((left_y := l_dir[0] + current_cord[0]),(left_x := l_dir[1] + current_cord[1])) in all_cords:\n",
    "        l_dir_pipe = pipe_map[left_y][left_x]\n",
    "        if l_dir_pipe == \".\":\n",
    "            inside.append((left_y, left_x))\n",
    "\n",
    "    if ((rigth_y := r_dir[0] + current_cord[0]), (right_x := r_dir[1] + current_cord[1])) in all_cords:\n",
    "        r_dir_pipe = pipe_map[rigth_y][right_x]\n",
    "\n",
    "        if r_dir_pipe == \".\":\n",
    "            outside.append((rigth_y, right_x))\n",
    "\n",
    "    last_cord = current_cord"
   ]
  },
  {
   "cell_type": "code",
   "execution_count": 61,
   "metadata": {},
   "outputs": [
    {
     "name": "stdout",
     "output_type": "stream",
     "text": [
      ".F----7F7F7F7F-7....\n",
      ".|F--7||||||||FJ....\n",
      ".||.FJ||||||||L7....\n",
      "FJL7L7LJLJ||LJIL-7..\n",
      "L--J.L7I.ILJS7F-7L7.\n",
      "....F-JI.F7FJ|L7L7L7\n",
      "....L7IF7||L7|IL7L7|\n",
      ".....|FJLJ|FJ|F7|.LJ\n",
      "....FJL-7.||.||||...\n",
      "....L---J.LJ.LJLJ...\n",
      "\n",
      ".F----7F7F7F7F-7....\n",
      ".|F--7||||||||FJ....\n",
      ".||.FJ||||||||L7....\n",
      "FJL7L7LJLJ||LJ.L-7..\n",
      "L--J.L7...LJS7F-7L7.\n",
      "....F-J..F7FJ|L7L7L7\n",
      "....L7.F7||L7|.L7L7|\n",
      ".....|FJLJ|FJ|F7|.LJ\n",
      "....FJL-7.||.||||...\n",
      "....L---J.LJ.LJLJ...\n"
     ]
    }
   ],
   "source": [
    "temp_map = [a.copy() for a in pipe_map]\n",
    "\n",
    "for d in outside:\n",
    "    temp_map[d[0]][d[1]] = \"I\"\n",
    "\n",
    "for l in temp_map:\n",
    "    for a in l:\n",
    "        print(a, end=\"\")\n",
    "    print(end='\\n')\n",
    "\n",
    "print()\n",
    "for l in pipe_map:\n",
    "    for a in l:\n",
    "        print(a, end=\"\")\n",
    "    print(end='\\n')"
   ]
  },
  {
   "cell_type": "code",
   "execution_count": 57,
   "metadata": {},
   "outputs": [
    {
     "data": {
      "text/plain": [
       "{(3, 14), (4, 7), (4, 9), (5, 7), (6, 6), (6, 14)}"
      ]
     },
     "execution_count": 57,
     "metadata": {},
     "output_type": "execute_result"
    }
   ],
   "source": [
    "set(outside)"
   ]
  },
  {
   "cell_type": "code",
   "execution_count": 58,
   "metadata": {},
   "outputs": [
    {
     "data": {
      "text/plain": [
       "6"
      ]
     },
     "execution_count": 58,
     "metadata": {},
     "output_type": "execute_result"
    }
   ],
   "source": [
    "len(set(outside))"
   ]
  },
  {
   "cell_type": "code",
   "execution_count": 59,
   "metadata": {},
   "outputs": [
    {
     "data": {
      "text/plain": [
       "24"
      ]
     },
     "execution_count": 59,
     "metadata": {},
     "output_type": "execute_result"
    }
   ],
   "source": [
    "len(set(inside))"
   ]
  }
 ],
 "metadata": {
  "kernelspec": {
   "display_name": "Python 3",
   "language": "python",
   "name": "python3"
  },
  "language_info": {
   "codemirror_mode": {
    "name": "ipython",
    "version": 3
   },
   "file_extension": ".py",
   "mimetype": "text/x-python",
   "name": "python",
   "nbconvert_exporter": "python",
   "pygments_lexer": "ipython3",
   "version": "3.11.4"
  }
 },
 "nbformat": 4,
 "nbformat_minor": 2
}
