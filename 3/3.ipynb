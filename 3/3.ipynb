{
 "cells": [
  {
   "cell_type": "code",
   "execution_count": 72,
   "metadata": {},
   "outputs": [],
   "source": [
    "import re\n",
    "import random\n",
    "\n",
    "with open(\"data.txt\") as file:\n",
    "    data = file.read()\n",
    "\n",
    "data = data.splitlines()"
   ]
  },
  {
   "cell_type": "code",
   "execution_count": 82,
   "metadata": {},
   "outputs": [
    {
     "name": "stdout",
     "output_type": "stream",
     "text": [
      "sum(totals)=528799\n",
      "sum(sum_of_gears)=84907174\n"
     ]
    }
   ],
   "source": [
    "parts = set()\n",
    "part_numbers = {}\n",
    "\n",
    "for row, line in enumerate(data):\n",
    "    for part in re.finditer(\"\\W\", line):\n",
    "        if part[0] != \".\":\n",
    "            parts.add((part.start(), row))\n",
    "\n",
    "totals = []\n",
    "\n",
    "for row, line in enumerate(data):\n",
    "    for number in re.finditer(\"\\d+\", line):\n",
    "        \n",
    "        hash = random()\n",
    "\n",
    "        for y in range(row-1, row+2):\n",
    "            for x in range(number.start()-1, number.end()+1):\n",
    "                if (x,y) in parts:\n",
    "                    totals.append(int(number[0]))\n",
    "                    \n",
    "                    for n in range(number.start(), number.end()):\n",
    "                        part_numbers[(n, row)] = (number[0], hash)\n",
    "\n",
    "sum_of_gears = []\n",
    "\n",
    "for row, line in enumerate(data):\n",
    "    for gear in re.finditer(\"\\*\", line):\n",
    "        pnums = []\n",
    "        for y in range(row-1, row+2):\n",
    "            for x in range(gear.start()-1, gear.end()+1):\n",
    "                if (x,y) in part_numbers:\n",
    "                    pnums.append(part_numbers[(x,y)])\n",
    "\n",
    "        pnums = [int(a[0]) for a in set(pnums)]\n",
    "        if len(pnums) == 2:\n",
    "            sum_of_gears.append(pnums[0] * pnums[1])\n",
    "\n",
    "\n",
    "print(f\"{sum(totals)=}\")\n",
    "print(f\"{sum(sum_of_gears)=}\")"
   ]
  }
 ],
 "metadata": {
  "kernelspec": {
   "display_name": "Python 3",
   "language": "python",
   "name": "python3"
  },
  "language_info": {
   "codemirror_mode": {
    "name": "ipython",
    "version": 3
   },
   "file_extension": ".py",
   "mimetype": "text/x-python",
   "name": "python",
   "nbconvert_exporter": "python",
   "pygments_lexer": "ipython3",
   "version": "3.11.4"
  }
 },
 "nbformat": 4,
 "nbformat_minor": 2
}
