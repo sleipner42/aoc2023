{
 "cells": [
  {
   "cell_type": "code",
   "execution_count": 672,
   "metadata": {},
   "outputs": [],
   "source": [
    "from tqdm import tqdm\n",
    "import numpy as np\n",
    "import re\n",
    "from queue import SimpleQueue\n",
    "from functools import reduce\n",
    "from shapely import Polygon, LineString\n",
    "import math\n",
    "\n",
    "with open(\"aoc.txt\") as file:\n",
    "    data = file.read()\n",
    "\n",
    "data = data.splitlines()"
   ]
  },
  {
   "cell_type": "code",
   "execution_count": 690,
   "metadata": {},
   "outputs": [
    {
     "data": {
      "text/plain": [
       "61661.0"
      ]
     },
     "execution_count": 690,
     "metadata": {},
     "output_type": "execute_result"
    }
   ],
   "source": [
    "last = (0,0)\n",
    "\n",
    "dirs = {\n",
    "    'R' : (0,1),\n",
    "    'D' : (1,0),\n",
    "    'L' : (0,-1),\n",
    "    'U' : (-1,0)\n",
    "}\n",
    "poly = [last]\n",
    "\n",
    "lattices = 0\n",
    "\n",
    "for line in data:\n",
    "    \n",
    "    dir = re.search(r\"\\w\", line).group()\n",
    "    dir = dirs[dir]\n",
    "    steps = int(re.search(r\" \\d+ \", line).group())\n",
    "\n",
    "    lattices += steps\n",
    "\n",
    "    second = (last[0] + (steps) * dir[0], last[1] + (steps) * dir[1])\n",
    "    last = second\n",
    "    poly.append(second)\n",
    "\n",
    "b = lattices\n",
    "i = Polygon(poly).area - b/2 + 1\n",
    "b+i"
   ]
  },
  {
   "cell_type": "code",
   "execution_count": 691,
   "metadata": {},
   "outputs": [
    {
     "data": {
      "text/plain": [
       "111131796939729.0"
      ]
     },
     "execution_count": 691,
     "metadata": {},
     "output_type": "execute_result"
    }
   ],
   "source": [
    "last = (0,0)\n",
    "\n",
    "dirs_2 = [(0,1), (1,0),(0,-1),(-1,0)]\n",
    "poly = [last]\n",
    "\n",
    "lattices = 0\n",
    "\n",
    "for line in data:\n",
    "    \n",
    "    hex = re.search(r\"(?<=#)[A-z0-9]+\", line).group()\n",
    "    dir = dirs_2[int(hex[-1])]\n",
    "    steps = int(hex[:-1], 16)\n",
    "    lattices += steps\n",
    "\n",
    "    second = (last[0] + (steps) * dir[0], last[1] + (steps) * dir[1])\n",
    "    last = second\n",
    "    poly.append(second)\n",
    "\n",
    "b = lattices\n",
    "i = Polygon(poly).area - b/2 + 1\n",
    "b+i"
   ]
  }
 ],
 "metadata": {
  "kernelspec": {
   "display_name": "base",
   "language": "python",
   "name": "python3"
  },
  "language_info": {
   "codemirror_mode": {
    "name": "ipython",
    "version": 3
   },
   "file_extension": ".py",
   "mimetype": "text/x-python",
   "name": "python",
   "nbconvert_exporter": "python",
   "pygments_lexer": "ipython3",
   "version": "3.9.13"
  },
  "orig_nbformat": 4
 },
 "nbformat": 4,
 "nbformat_minor": 2
}
