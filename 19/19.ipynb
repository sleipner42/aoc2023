{
 "cells": [
  {
   "cell_type": "code",
   "execution_count": 102,
   "metadata": {},
   "outputs": [],
   "source": [
    "from tqdm import tqdm\n",
    "import numpy as np\n",
    "import re\n",
    "from queue import SimpleQueue\n",
    "from functools import reduce\n",
    "from shapely import Polygon, LineString\n",
    "import math\n",
    "\n",
    "with open(\"aoc.txt\") as file:\n",
    "    data = file.read()"
   ]
  },
  {
   "cell_type": "code",
   "execution_count": 106,
   "metadata": {},
   "outputs": [],
   "source": [
    "def fix_workflow(w):\n",
    "\n",
    "    rules = w[1:-1].split(\",\")\n",
    "    end = rules[-1]\n",
    "    rules = [a.split(\":\") for a in rules[:-1]]\n",
    "    temp = {'rules' : rules, \"end\" : end}\n",
    "\n",
    "    return temp\n",
    "\n",
    "workflows, ratings = data.split('\\n\\n')\n",
    "ratings = list(map(eval, re.sub(r\"(?=[a-z])|(?<=[a-z])\",'\"', ratings.replace(\"=\", \":\")).splitlines()))\n",
    "workflows = {(split := re.split(\"(?={)\", a))[0] : fix_workflow(split[1]) for a in workflows.splitlines()}"
   ]
  },
  {
   "cell_type": "code",
   "execution_count": 108,
   "metadata": {},
   "outputs": [
    {
     "data": {
      "text/plain": [
       "397134"
      ]
     },
     "execution_count": 108,
     "metadata": {},
     "output_type": "execute_result"
    }
   ],
   "source": [
    "def check_rule(rating, rule):\n",
    "    letter = rule[0]\n",
    "    comp = rule[1]\n",
    "    nr = int(rule[2:])\n",
    "\n",
    "    if (comp == \">\" and rating[letter] > nr) or (comp == \"<\" and rating[letter] < nr):\n",
    "        return True\n",
    "    \n",
    "    return False\n",
    "\n",
    "def get_next(key, rating):\n",
    "\n",
    "    if key in ['A','R']:\n",
    "        return key\n",
    "\n",
    "    workflow = workflows[key]\n",
    "\n",
    "    for rule in workflow['rules']:\n",
    "        if check_rule(rating, rule[0]):\n",
    "            return get_next(rule[1], rating)\n",
    "\n",
    "    return get_next(workflow['end'], rating)\n",
    "\n",
    "sum([sum(rating.values()) for rating in ratings if get_next(\"in\", rating) == \"A\"])"
   ]
  }
 ],
 "metadata": {
  "kernelspec": {
   "display_name": "base",
   "language": "python",
   "name": "python3"
  },
  "language_info": {
   "codemirror_mode": {
    "name": "ipython",
    "version": 3
   },
   "file_extension": ".py",
   "mimetype": "text/x-python",
   "name": "python",
   "nbconvert_exporter": "python",
   "pygments_lexer": "ipython3",
   "version": "3.9.13"
  },
  "orig_nbformat": 4
 },
 "nbformat": 4,
 "nbformat_minor": 2
}
