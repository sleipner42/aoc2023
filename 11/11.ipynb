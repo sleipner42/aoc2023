{
 "cells": [
  {
   "cell_type": "code",
   "execution_count": 176,
   "metadata": {},
   "outputs": [],
   "source": [
    "import numpy as np\n",
    "import itertools"
   ]
  },
  {
   "cell_type": "code",
   "execution_count": 177,
   "metadata": {},
   "outputs": [],
   "source": [
    "with open(\"aoc.txt\") as file:\n",
    "    data = file.read()\n",
    "\n",
    "data = np.array([np.array(list(a)) for a in data.splitlines()])"
   ]
  },
  {
   "cell_type": "code",
   "execution_count": 178,
   "metadata": {},
   "outputs": [
    {
     "name": "stdout",
     "output_type": "stream",
     "text": [
      "9605127.0\n",
      "458191688761.0\n"
     ]
    }
   ],
   "source": [
    "empty_cols = (data == \".\").all(axis=0).nonzero()[0]\n",
    "empty_rows = (data == \".\").all(axis=1).nonzero()[0]\n",
    "\n",
    "galaxies = np.transpose((data == \"#\").nonzero())\n",
    "pairs = list(itertools.combinations(galaxies.tolist(), 2))\n",
    "\n",
    "distances = np.zeros(len(pairs))\n",
    "\n",
    "def calculate_sum(factor):\n",
    "\n",
    "    for n, pair in enumerate(pairs):\n",
    "\n",
    "        p1 = pair[0]\n",
    "        p2 = pair[1]\n",
    "\n",
    "        nr_empty_cols = len(empty_cols[(empty_cols > min(p1[1], p2[1])) & (empty_cols < max(p1[1], p2[1]))]) * (factor - 1)\n",
    "        nr_empty_rows = len(empty_rows[(empty_rows > min(p1[0], p2[0])) & (empty_rows < max(p1[0], p2[0]))]) * (factor - 1)\n",
    "\n",
    "        distance = np.abs(p1[0] - p2[0]) + np.abs(p1[1] - p2[1]) + nr_empty_rows + nr_empty_cols\n",
    "        distances[n] = distance\n",
    "\n",
    "    return distances.sum()\n",
    "\n",
    "print(calculate_sum(2))\n",
    "print(calculate_sum(1000000))"
   ]
  }
 ],
 "metadata": {
  "kernelspec": {
   "display_name": "base",
   "language": "python",
   "name": "python3"
  },
  "language_info": {
   "codemirror_mode": {
    "name": "ipython",
    "version": 3
   },
   "file_extension": ".py",
   "mimetype": "text/x-python",
   "name": "python",
   "nbconvert_exporter": "python",
   "pygments_lexer": "ipython3",
   "version": "3.9.13"
  },
  "orig_nbformat": 4
 },
 "nbformat": 4,
 "nbformat_minor": 2
}
