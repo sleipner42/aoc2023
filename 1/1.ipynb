{
 "cells": [
  {
   "cell_type": "code",
   "execution_count": 133,
   "metadata": {},
   "outputs": [],
   "source": [
    "import pandas as pd"
   ]
  },
  {
   "cell_type": "code",
   "execution_count": 134,
   "metadata": {},
   "outputs": [],
   "source": [
    "with open(\"data.txt\") as file:\n",
    "    data = file.read().splitlines()"
   ]
  },
  {
   "cell_type": "code",
   "execution_count": 160,
   "metadata": {},
   "outputs": [
    {
     "data": {
      "text/plain": [
       "56042"
      ]
     },
     "execution_count": 160,
     "metadata": {},
     "output_type": "execute_result"
    }
   ],
   "source": [
    "pd.DataFrame(data)[0].str.replace(\"[a-z]\", \"\",regex=True).apply(lambda x: int(x[0] + x[-1])).sum()"
   ]
  },
  {
   "cell_type": "code",
   "execution_count": 159,
   "metadata": {},
   "outputs": [
    {
     "data": {
      "text/plain": [
       "55358"
      ]
     },
     "execution_count": 159,
     "metadata": {},
     "output_type": "execute_result"
    }
   ],
   "source": [
    "nums_lookup = {\"one\" : 1, \"two\":2, \"three\":3, \"four\":4, \"five\":5, \"six\":6, \"seven\":7, \"eight\":8, \"nine\":9}\n",
    "\n",
    "def parser(x):\n",
    "\n",
    "    seq = \"\"\n",
    "    nums = []\n",
    "\n",
    "    for n in range(len(x)):\n",
    "\n",
    "        for number in nums_lookup.keys():\n",
    "           \n",
    "           if x.startswith(number, n):\n",
    "               nums.append(nums_lookup[number])\n",
    "\n",
    "        for number in range(1,10):\n",
    "           if x.startswith(str(number), n):\n",
    "               nums.append(number)\n",
    "\n",
    "    return int(str(nums[0]) + str(nums[-1]))\n",
    "\n",
    "output = []\n",
    "for line in data:\n",
    "    output.append(int(parser(line)))\n",
    "\n",
    "sum(output)"
   ]
  }
 ],
 "metadata": {
  "kernelspec": {
   "display_name": "Python 3",
   "language": "python",
   "name": "python3"
  },
  "language_info": {
   "codemirror_mode": {
    "name": "ipython",
    "version": 3
   },
   "file_extension": ".py",
   "mimetype": "text/x-python",
   "name": "python",
   "nbconvert_exporter": "python",
   "pygments_lexer": "ipython3",
   "version": "3.11.4"
  }
 },
 "nbformat": 4,
 "nbformat_minor": 2
}
