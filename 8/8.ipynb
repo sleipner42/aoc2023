{
 "cells": [
  {
   "cell_type": "code",
   "execution_count": 70,
   "metadata": {},
   "outputs": [],
   "source": [
    "import re\n",
    "from collections import Counter\n",
    "from functools import cmp_to_key\n",
    "from tqdm import tqdm\n",
    "import pandas as pd\n",
    "import numpy as np\n",
    "\n",
    "with open(\"data.txt\") as file:\n",
    "    data = file.read()\n",
    "data = data.splitlines()\n"
   ]
  },
  {
   "cell_type": "code",
   "execution_count": 38,
   "metadata": {},
   "outputs": [
    {
     "data": {
      "text/plain": [
       "12169"
      ]
     },
     "execution_count": 38,
     "metadata": {},
     "output_type": "execute_result"
    }
   ],
   "source": [
    "instructions = data[0]\n",
    "path = {}\n",
    "\n",
    "for line in data[2:]:\n",
    "    k = line.split(\"=\")[0].strip()\n",
    "    r, l  = line.split(\"=\")[-1].replace(\"(\", \"\").replace(\")\", \"\").split(\",\")\n",
    "\n",
    "    path[k] = (r.strip(), l.strip())\n",
    "\n",
    "\n",
    "key = \"AAA\"\n",
    "\n",
    "counter = 1\n",
    "\n",
    "for n in instructions * 1000:\n",
    "\n",
    "    if n == \"R\":\n",
    "        key = path[key][1]\n",
    "    else:\n",
    "        key = path[key][0]\n",
    "\n",
    "    if key == \"ZZZ\":\n",
    "        break\n",
    "\n",
    "    counter += 1\n",
    "\n",
    "counter"
   ]
  },
  {
   "cell_type": "code",
   "execution_count": 57,
   "metadata": {},
   "outputs": [],
   "source": [
    "start_keys = [a for a in path.keys() if a[-1] == \"A\"]\n",
    "counter = 1\n",
    "\n",
    "numbers = [[] for _ in range(len(start_keys))]\n",
    "\n",
    "for nr, n in enumerate(instructions * 1000):\n",
    "\n",
    "    for i, key in enumerate(start_keys):\n",
    "\n",
    "        if n == \"R\":\n",
    "            new_key = path[key][1]\n",
    "        else:\n",
    "            new_key = path[key][0]\n",
    "\n",
    "        start_keys[i] = new_key\n",
    "\n",
    "        if new_key[-1] == \"Z\":\n",
    "            numbers[i].append(nr + 1)\n"
   ]
  }
 ],
 "metadata": {
  "kernelspec": {
   "display_name": "Python 3",
   "language": "python",
   "name": "python3"
  },
  "language_info": {
   "codemirror_mode": {
    "name": "ipython",
    "version": 3
   },
   "file_extension": ".py",
   "mimetype": "text/x-python",
   "name": "python",
   "nbconvert_exporter": "python",
   "pygments_lexer": "ipython3",
   "version": "3.11.4"
  }
 },
 "nbformat": 4,
 "nbformat_minor": 2
}
