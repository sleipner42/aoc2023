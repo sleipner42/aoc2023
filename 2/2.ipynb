{
 "cells": [
  {
   "cell_type": "code",
   "execution_count": 25,
   "metadata": {},
   "outputs": [],
   "source": [
    "import numpy as np\n",
    "\n",
    "with open(\"data.txt\") as file:\n",
    "    data = file.read()"
   ]
  },
  {
   "cell_type": "code",
   "execution_count": 21,
   "metadata": {},
   "outputs": [
    {
     "data": {
      "text/plain": [
       "2776"
      ]
     },
     "execution_count": 21,
     "metadata": {},
     "output_type": "execute_result"
    }
   ],
   "source": [
    "possible_games = []\n",
    "\n",
    "rules = {\n",
    "    'red': 12,\n",
    "    'green':13,\n",
    "    'blue':14\n",
    "}\n",
    "\n",
    "for line in data.splitlines():\n",
    "\n",
    "\n",
    "    game_id = int(line.split(':')[0].split(\"Game \")[-1])\n",
    "    game = line.split(': ')[-1]\n",
    "    sets = game.split(\";\")\n",
    "    possible = True\n",
    "\n",
    "    for set in sets:\n",
    "\n",
    "        for stones in set.split(\",\"):\n",
    "            nr, color = stones.strip().split(\" \")\n",
    "\n",
    "            if rules[color.strip()] < int(nr):\n",
    "                \n",
    "                possible = False\n",
    "    \n",
    "    if possible:\n",
    "        possible_games.append(int(game_id))\n",
    "\n",
    "sum(possible_games)"
   ]
  },
  {
   "cell_type": "code",
   "execution_count": 32,
   "metadata": {},
   "outputs": [
    {
     "data": {
      "text/plain": [
       "68638"
      ]
     },
     "execution_count": 32,
     "metadata": {},
     "output_type": "execute_result"
    }
   ],
   "source": [
    "all_prods = []\n",
    "\n",
    "for line in data.splitlines():\n",
    "\n",
    "    game = line.split(': ')[-1]\n",
    "    sets = game.split(\";\")\n",
    "    possible = True\n",
    "\n",
    "    min_cubes = {\n",
    "        'red' : 0,\n",
    "        'blue': 0,\n",
    "        'green': 0\n",
    "    }\n",
    "\n",
    "    for set in sets:\n",
    "\n",
    "        for stones in set.split(\",\"):\n",
    "            nr, color = stones.strip().split(\" \")\n",
    "            min_cubes[color] = max(int(nr), min_cubes[color])\n",
    "\n",
    "    prod = np.prod(list(min_cubes.values()))\n",
    "    all_prods.append(prod)\n",
    "\n",
    "sum(all_prods)"
   ]
  }
 ],
 "metadata": {
  "kernelspec": {
   "display_name": "Python 3",
   "language": "python",
   "name": "python3"
  },
  "language_info": {
   "codemirror_mode": {
    "name": "ipython",
    "version": 3
   },
   "file_extension": ".py",
   "mimetype": "text/x-python",
   "name": "python",
   "nbconvert_exporter": "python",
   "pygments_lexer": "ipython3",
   "version": "3.11.2"
  }
 },
 "nbformat": 4,
 "nbformat_minor": 2
}
