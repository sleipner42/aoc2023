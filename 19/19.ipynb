{
 "cells": [
  {
   "cell_type": "code",
   "execution_count": 52,
   "metadata": {},
   "outputs": [],
   "source": [
    "import re\n",
    "import numpy as np\n",
    "\n",
    "with open(\"data.txt\") as file:\n",
    "    data = file.read()"
   ]
  },
  {
   "cell_type": "code",
   "execution_count": 53,
   "metadata": {},
   "outputs": [],
   "source": [
    "def fix_workflow(w):\n",
    "\n",
    "    rules = w[1:-1].split(\",\")\n",
    "    end = rules[-1]\n",
    "    rules = [a.split(\":\") for a in rules[:-1]]\n",
    "    temp = {'rules' : rules, \"end\" : end}\n",
    "\n",
    "    return temp\n",
    "\n",
    "workflows, ratings = data.split('\\n\\n')\n",
    "ratings = list(map(eval, re.sub(r\"(?=[a-z])|(?<=[a-z])\",'\"', ratings.replace(\"=\", \":\")).splitlines()))\n",
    "workflows = {(split := re.split(\"(?={)\", a))[0] : fix_workflow(split[1]) for a in workflows.splitlines()}"
   ]
  },
  {
   "cell_type": "code",
   "execution_count": 54,
   "metadata": {},
   "outputs": [
    {
     "data": {
      "text/plain": [
       "397134"
      ]
     },
     "execution_count": 54,
     "metadata": {},
     "output_type": "execute_result"
    }
   ],
   "source": [
    "def check_rule(rating, rule):\n",
    "    letter = rule[0]\n",
    "    comp = rule[1]\n",
    "    nr = int(rule[2:])\n",
    "\n",
    "    if (comp == \">\" and rating[letter] > nr) or (comp == \"<\" and rating[letter] < nr):\n",
    "        return True\n",
    "    \n",
    "    return False\n",
    "\n",
    "def get_next(key, rating):\n",
    "\n",
    "    if key in ['A','R']:\n",
    "        return key\n",
    "\n",
    "    workflow = workflows[key]\n",
    "\n",
    "    for rule in workflow['rules']:\n",
    "        if check_rule(rating, rule[0]):\n",
    "            return get_next(rule[1], rating)\n",
    "\n",
    "    return get_next(workflow['end'], rating)\n",
    "\n",
    "sum([sum(rating.values()) for rating in ratings if get_next(\"in\", rating) == \"A\"])"
   ]
  },
  {
   "cell_type": "code",
   "execution_count": 66,
   "metadata": {},
   "outputs": [
    {
     "data": {
      "text/plain": [
       "127517902575337"
      ]
     },
     "execution_count": 66,
     "metadata": {},
     "output_type": "execute_result"
    }
   ],
   "source": [
    "def split_rule(rule, ranges):\n",
    "    letter = rule[0]\n",
    "    comp = rule[1]\n",
    "    nr = int(rule[2:])\n",
    "\n",
    "    rang = ranges[letter]\n",
    "\n",
    "    if comp == \">\":\n",
    "        r1 = (nr + 1, rang[1])\n",
    "        r2 = (rang[0], nr)\n",
    "\n",
    "    elif comp == \"<\":\n",
    "        r1 = (rang[0], nr - 1)\n",
    "        r2 = (nr, rang[1])\n",
    "\n",
    "    true_range = ranges.copy()\n",
    "    true_range[letter] = r1\n",
    "\n",
    "    false_range = ranges.copy()\n",
    "    false_range[letter] = r2\n",
    "\n",
    "    return true_range, false_range\n",
    "\n",
    "\n",
    "def count_possibilites(key, ranges):\n",
    "\n",
    "    if key == \"A\":\n",
    "        return np.prod([a[1] - a[0] + 1 for a in ranges.values()])\n",
    "    if key == \"R\":\n",
    "        return 0\n",
    "\n",
    "    workflow = workflows[key]\n",
    "\n",
    "    nr_possibilities = 0\n",
    "\n",
    "    for rule in workflow['rules']:\n",
    "        true_range, false_range = split_rule(rule[0], ranges)\n",
    "        nr_possibilities += count_possibilites(rule[1], true_range)\n",
    "        ranges = false_range\n",
    "\n",
    "    nr_possibilities += count_possibilites(workflow[\"end\"], false_range)\n",
    "\n",
    "    return nr_possibilities\n",
    "\n",
    "\n",
    "ranges = {\n",
    "    'x' : (1,4000),\n",
    "    'm' : (1,4000),\n",
    "    'a' : (1,4000),\n",
    "    's' : (1,4000),\n",
    "}\n",
    "\n",
    "count_possibilites('in', ranges)"
   ]
  }
 ],
 "metadata": {
  "kernelspec": {
   "display_name": "base",
   "language": "python",
   "name": "python3"
  },
  "language_info": {
   "codemirror_mode": {
    "name": "ipython",
    "version": 3
   },
   "file_extension": ".py",
   "mimetype": "text/x-python",
   "name": "python",
   "nbconvert_exporter": "python",
   "pygments_lexer": "ipython3",
   "version": "3.11.4"
  },
  "orig_nbformat": 4
 },
 "nbformat": 4,
 "nbformat_minor": 2
}
