{
 "cells": [
  {
   "cell_type": "code",
   "execution_count": 39,
   "metadata": {},
   "outputs": [],
   "source": [
    "from sklearn.linear_model import LinearRegression\n",
    "import itertools\n",
    "from z3 import *\n",
    "\n",
    "with open(\"data.txt\") as file:\n",
    "    data = file.read().splitlines()\n",
    "\n",
    "def fix_data_1(line):\n",
    "    p1, p2 = line.split(\" @ \")\n",
    "    p1 = np.array(p1.split(\", \")).astype(int)\n",
    "    v = np.array(p2.split(\", \")).astype(int)\n",
    "\n",
    "    p2 = p1 + v\n",
    "\n",
    "    X = np.vstack((p1[0], p2[0]))\n",
    "    y = np.vstack((p1[1], p2[1]))\n",
    "\n",
    "    coef = LinearRegression().fit(X, y)\n",
    "\n",
    "    return coef.coef_[0][0], coef.intercept_[0], p1, v\n",
    "\n",
    "def fix_data_2(line):\n",
    "    p1, p2 = line.split(\" @ \")\n",
    "    p1 = np.array(p1.split(\", \")).astype(int)\n",
    "    v = np.array(p2.split(\", \")).astype(int)\n",
    "\n",
    "    return p1, v\n",
    "\n",
    "def intersection(l1, l2):\n",
    "\n",
    "    x = (l1[1] - l2[1]) / (l2[0] - l1[0])\n",
    "    y1 = l1[1] + l1[0] * x\n",
    "    y2 = l2[1] + l2[0] * x\n",
    "\n",
    "    return np.array([x, y1])#, y2\n",
    "\n",
    "data_1 = [fix_data_1(d) for d in data]\n",
    "data_2 = [fix_data_2(d) for d in data]"
   ]
  },
  {
   "cell_type": "code",
   "execution_count": 40,
   "metadata": {},
   "outputs": [
    {
     "name": "stderr",
     "output_type": "stream",
     "text": [
      "/var/folders/qp/_881tfz13bn6k9p0wr5d3hv40000gn/T/ipykernel_70693/2437301387.py:31: RuntimeWarning: divide by zero encountered in scalar divide\n",
      "  x = (l1[1] - l2[1]) / (l2[0] - l1[0])\n"
     ]
    },
    {
     "data": {
      "text/plain": [
       "28266"
      ]
     },
     "execution_count": 40,
     "metadata": {},
     "output_type": "execute_result"
    }
   ],
   "source": [
    "lb = 200000000000000\n",
    "ub = 400000000000000\n",
    "\n",
    "counter = 0\n",
    "\n",
    "for comb in list(itertools.combinations(data_1, 2)):\n",
    "    isec = intersection(comb[0], comb[1])\n",
    "\n",
    "    #print(comb[1])\n",
    "\n",
    "    if isec[0] != np.inf:\n",
    "        if isec[0] >= lb and isec[0] <= ub and isec[1] >= lb and isec[1] <= ub:\n",
    "\n",
    "            p1 = isec - comb[0][2][:-1]\n",
    "            p2 = isec - comb[1][2][:-1]\n",
    "            v1 = comb[0][3][:-1]\n",
    "            v2 = comb[1][3][:-1]\n",
    "\n",
    "            if (np.sign(p1) == np.sign(v1)).all() and (np.sign(p2) == np.sign(v2)).all():\n",
    "                counter += 1\n",
    "\n",
    "counter"
   ]
  },
  {
   "cell_type": "code",
   "execution_count": 41,
   "metadata": {},
   "outputs": [
    {
     "name": "stdout",
     "output_type": "stream",
     "text": [
      "x 354954946036320\n",
      "y 318916597757112\n",
      "z 112745502066835\n"
     ]
    },
    {
     "data": {
      "text/plain": [
       "786617045860267"
      ]
     },
     "execution_count": 41,
     "metadata": {},
     "output_type": "execute_result"
    }
   ],
   "source": [
    "start = Ints(\"x y z\")\n",
    "velocity = Ints(\"xv yv zv\")\n",
    "ts = Ints(\" \".join([f't_{n}' for n in range(len(data_2))]))\n",
    "\n",
    "s = Solver()\n",
    "\n",
    "for n, d in enumerate(data_2):\n",
    "\n",
    "    stone_start = d[0]\n",
    "    stone_velocity = d[1]\n",
    "    t = ts[n]\n",
    "\n",
    "    s.add(t > -1)\n",
    "\n",
    "    for i in range(3):\n",
    "        s.add(stone_start[i] + stone_velocity[i] * t == start[i] + velocity[i] * t)\n",
    "\n",
    "\n",
    "s.check()\n",
    "result = s.model()\n",
    "\n",
    "total = 0\n",
    "for v in start:\n",
    "    val = int(result[v].params()[0])\n",
    "    print(v, val)\n",
    "    total += val\n",
    "\n",
    "total"
   ]
  }
 ],
 "metadata": {
  "kernelspec": {
   "display_name": "Python 3",
   "language": "python",
   "name": "python3"
  },
  "language_info": {
   "codemirror_mode": {
    "name": "ipython",
    "version": 3
   },
   "file_extension": ".py",
   "mimetype": "text/x-python",
   "name": "python",
   "nbconvert_exporter": "python",
   "pygments_lexer": "ipython3",
   "version": "3.11.4"
  }
 },
 "nbformat": 4,
 "nbformat_minor": 2
}
