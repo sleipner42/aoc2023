{
 "cells": [
  {
   "cell_type": "code",
   "execution_count": 16,
   "metadata": {},
   "outputs": [],
   "source": [
    "from tqdm import tqdm\n",
    "\n",
    "with open(\"data.txt\") as file:\n",
    "    data = file.read()\n",
    "    \n",
    "layout = dict()\n",
    "\n",
    "for y, line in enumerate(data.splitlines()):\n",
    "    for x, c in enumerate(line):\n",
    "        layout[(y,x)] = c"
   ]
  },
  {
   "cell_type": "code",
   "execution_count": 19,
   "metadata": {},
   "outputs": [
    {
     "data": {
      "text/plain": [
       "6906"
      ]
     },
     "execution_count": 19,
     "metadata": {},
     "output_type": "execute_result"
    }
   ],
   "source": [
    "def get_energised_tiles(current_cord, heading, seen):\n",
    "\n",
    "    while True:\n",
    "\n",
    "        current_cord = (current_cord[0] + heading[0], current_cord[1] + heading[1])\n",
    "        current_tile = layout.get(current_cord)\n",
    "\n",
    "        if (current_cord, heading) in seen:\n",
    "            break\n",
    "\n",
    "        if current_cord not in layout:\n",
    "            break\n",
    "\n",
    "        seen.add((current_cord, heading))\n",
    "\n",
    "        match current_tile:\n",
    "            case \"/\":\n",
    "                match heading:\n",
    "                    case (1, 0):\n",
    "                        heading = (0, -1)\n",
    "                    case (0, 1):\n",
    "                        heading = (-1, 0)\n",
    "                    case (-1, 0):\n",
    "                        heading = (0, 1)\n",
    "                    case (0, -1):\n",
    "                        heading = (1, 0)\n",
    "            case \"\\\\\":\n",
    "                match heading:\n",
    "                    case (1, 0):\n",
    "                        heading = (0, 1)\n",
    "                    case (0, 1):\n",
    "                        heading = (1, 0)\n",
    "                    case (-1, 0):\n",
    "                        heading = (0, -1)\n",
    "                    case (0, -1):\n",
    "                        heading = (-1, 0)\n",
    "            case \"-\":\n",
    "                if heading in [(1, 0), (-1, 0)]:\n",
    "                    heading = (0,-1)\n",
    "                    get_energised_tiles(current_cord, (0,1), seen)\n",
    "            case \"|\":\n",
    "               if heading in [(0, -1), (0, 1)]:\n",
    "                   heading = (1,0)\n",
    "                   get_energised_tiles(current_cord, (-1,0), seen)\n",
    "\n",
    "    return len(set([s[0] for s in seen]))\n",
    "\n",
    "get_energised_tiles((0, -1), (0,1), set())"
   ]
  },
  {
   "cell_type": "code",
   "execution_count": 20,
   "metadata": {},
   "outputs": [
    {
     "name": "stderr",
     "output_type": "stream",
     "text": [
      "100%|██████████| 110/110 [00:12<00:00,  8.96it/s]\n",
      "100%|██████████| 110/110 [00:11<00:00,  9.67it/s]\n"
     ]
    },
    {
     "data": {
      "text/plain": [
       "7330"
      ]
     },
     "execution_count": 20,
     "metadata": {},
     "output_type": "execute_result"
    }
   ],
   "source": [
    "max_energy = 0\n",
    "width = len(data.splitlines()[0])\n",
    "height = len(data.splitlines())\n",
    "\n",
    "for n in tqdm(range(width)):\n",
    "\n",
    "    max_energy = max(max_energy, get_energised_tiles((-1,n), (1,0), set()))\n",
    "    max_energy = max(max_energy, get_energised_tiles((height,n), (-1,0), set()))\n",
    "\n",
    "for n in tqdm(range(height)):\n",
    "    max_energy = max(max_energy, get_energised_tiles((n,-1), (0,1), set()))\n",
    "    max_energy = max(max_energy, get_energised_tiles((n,width), (0,-1), set()))\n",
    "\n",
    "max_energy"
   ]
  }
 ],
 "metadata": {
  "kernelspec": {
   "display_name": "Python 3",
   "language": "python",
   "name": "python3"
  },
  "language_info": {
   "codemirror_mode": {
    "name": "ipython",
    "version": 3
   },
   "file_extension": ".py",
   "mimetype": "text/x-python",
   "name": "python",
   "nbconvert_exporter": "python",
   "pygments_lexer": "ipython3",
   "version": "3.11.4"
  }
 },
 "nbformat": 4,
 "nbformat_minor": 2
}
