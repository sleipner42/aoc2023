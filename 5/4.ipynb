{
 "cells": [
  {
   "cell_type": "code",
   "execution_count": 12,
   "metadata": {},
   "outputs": [],
   "source": [
    "import re\n",
    "\n",
    "with open(\"data.txt\") as file:\n",
    "    data = file.read()"
   ]
  },
  {
   "cell_type": "code",
   "execution_count": 13,
   "metadata": {},
   "outputs": [],
   "source": [
    "seeds = [int(a) for a in re.search(\"(?<=seeds:)[0-9 \\n]+(?=\\n)\", data)[0].split()]\n",
    "map_names = re.findall(\"[a-z- ]+:\", data)[1:]\n",
    "\n",
    "maps = {}\n",
    "\n",
    "for map in map_names:\n",
    "    maps[map] = [a.split() for a in re.search(f'(?<={map}\\n)[0-9 \\n]+(?=\\n)', data)[0].splitlines()]"
   ]
  },
  {
   "cell_type": "code",
   "execution_count": 14,
   "metadata": {},
   "outputs": [
    {
     "data": {
      "text/plain": [
       "240320250"
      ]
     },
     "execution_count": 14,
     "metadata": {},
     "output_type": "execute_result"
    }
   ],
   "source": [
    "locations = []\n",
    "\n",
    "for seed_nr in seeds:\n",
    "    for map in maps.values():\n",
    "\n",
    "        output = seed_nr\n",
    "\n",
    "        for row in map:\n",
    "            dest_range = int(row[0])\n",
    "            source_range = int(row[1])\n",
    "            range_length = int(row[2])\n",
    "\n",
    "            if seed_nr >= source_range and seed_nr < source_range + range_length:\n",
    "                output = seed_nr - source_range + dest_range\n",
    "            \n",
    "    \n",
    "        \n",
    "        seed_nr = output\n",
    "    locations.append(output)\n",
    "\n",
    "min(locations)\n"
   ]
  },
  {
   "cell_type": "code",
   "execution_count": 17,
   "metadata": {},
   "outputs": [
    {
     "data": {
      "text/plain": [
       "28580589"
      ]
     },
     "execution_count": 17,
     "metadata": {},
     "output_type": "execute_result"
    }
   ],
   "source": [
    "def apply_map(seed_nr, n = len(maps.values())):\n",
    "    for map in list(maps.values())[:n]:\n",
    "\n",
    "        output = seed_nr\n",
    "\n",
    "        for row in map:\n",
    "            dest_range = int(row[0])\n",
    "            source_range = int(row[1])\n",
    "            range_length = int(row[2])\n",
    "\n",
    "            if seed_nr >= source_range and seed_nr < source_range + range_length:\n",
    "                output = seed_nr - source_range + dest_range   \n",
    "        \n",
    "        seed_nr = output\n",
    "    \n",
    "    return output\n",
    "\n",
    "def inverse_map(output_nr, n = len(maps.values())):\n",
    "\n",
    "    if n == 0:\n",
    "        return output_nr\n",
    "\n",
    "    for map in list(maps.values())[:n][::-1]:\n",
    "\n",
    "        seed_nr = output_nr\n",
    "\n",
    "        for row in map:\n",
    "            dest_range = int(row[0])\n",
    "            source_range = int(row[1])\n",
    "            range_length = int(row[2])\n",
    "\n",
    "            if output_nr >= dest_range and output_nr < dest_range + range_length:\n",
    "                seed_nr = output_nr - dest_range + source_range   \n",
    "        \n",
    "        output_nr = seed_nr\n",
    "    \n",
    "    return seed_nr\n",
    "\n",
    "breakpoints = []\n",
    "\n",
    "for layer, map in enumerate(maps.values()):\n",
    "    for row in map:\n",
    "\n",
    "        dest_range = int(row[0])\n",
    "        source_range = int(row[1])\n",
    "        range_length = int(row[2])\n",
    "\n",
    "        breakpoints.append(inverse_map(source_range, n=layer))\n",
    "        breakpoints.append(inverse_map(source_range + range_length, n=layer))\n",
    "\n",
    "\n",
    "breakpoints = sorted(set(breakpoints))\n",
    "locations = []\n",
    "\n",
    "for rang in list(zip(seeds[::2], seeds[1::2])):\n",
    "\n",
    "    start_val = rang[0]\n",
    "    end_val = rang[0] + rang[1]\n",
    "\n",
    "    bpoints_in_range = [b for b in breakpoints if (b >= start_val and b < end_val)] + [start_val] + [end_val - 1]\n",
    "    min_points = [apply_map(b) for b in bpoints_in_range]\n",
    "\n",
    "    locations.append(min(min_points))\n",
    "\n",
    "min(locations)"
   ]
  }
 ],
 "metadata": {
  "kernelspec": {
   "display_name": "Python 3",
   "language": "python",
   "name": "python3"
  },
  "language_info": {
   "codemirror_mode": {
    "name": "ipython",
    "version": 3
   },
   "file_extension": ".py",
   "mimetype": "text/x-python",
   "name": "python",
   "nbconvert_exporter": "python",
   "pygments_lexer": "ipython3",
   "version": "3.11.4"
  }
 },
 "nbformat": 4,
 "nbformat_minor": 2
}
