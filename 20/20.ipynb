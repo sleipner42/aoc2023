{
 "cells": [
  {
   "cell_type": "code",
   "execution_count": 1,
   "metadata": {},
   "outputs": [],
   "source": [
    "import re\n",
    "import numpy as np\n",
    "from collections import defaultdict\n",
    "from queue import SimpleQueue\n",
    "from tqdm import tqdm\n",
    "import math\n",
    "import itertools\n",
    "from functools import cache\n",
    "\n",
    "with open(\"data.txt\") as file:\n",
    "    data = file.read().splitlines()"
   ]
  },
  {
   "cell_type": "code",
   "execution_count": 2,
   "metadata": {},
   "outputs": [],
   "source": [
    "input = {\n",
    "    re.search(\"[a-z]+(?= )\", a).group(): [\n",
    "        re.search(\"[%&]|broadcaster\", a).group(),\n",
    "        re.findall(r\"[a-z]+\", a.split(\"-> \")[-1]),\n",
    "    ]\n",
    "    for a in data\n",
    "}"
   ]
  },
  {
   "cell_type": "code",
   "execution_count": 82,
   "metadata": {},
   "outputs": [
    {
     "data": {
      "text/plain": [
       "819397964"
      ]
     },
     "execution_count": 82,
     "metadata": {},
     "output_type": "execute_result"
    }
   ],
   "source": [
    "def press_button(n, check = \"\", prev = \"\"):\n",
    "\n",
    "    flipflop = defaultdict(bool)\n",
    "    conjunctions = [key for key, val in input.items() if val[0] == \"&\"]\n",
    "    conjunctions = {\n",
    "        c: {key: 0 for key, val in input.items() if c in val[1]} for c in conjunctions\n",
    "    }\n",
    "\n",
    "    high, low = 0,0\n",
    "\n",
    "    for button_press in range(n):\n",
    "\n",
    "        que = SimpleQueue()\n",
    "        que.put((\"broadcaster\", 0, \"\"))\n",
    "\n",
    "        while que.qsize() > 0:\n",
    "            key, signal, previous = que.get()\n",
    "\n",
    "            if signal == 0:\n",
    "                low += 1\n",
    "            else:\n",
    "                high += 1\n",
    "\n",
    "            current = input.get(key, [None])\n",
    "\n",
    "            if current[0] == \"%\" and signal == 0:\n",
    "                flipflop[key] = not flipflop[key]\n",
    "                signal_out = int(flipflop[key])\n",
    "\n",
    "                for n in current[1]:\n",
    "                    que.put((n, signal_out, key))\n",
    "\n",
    "            if current[0] == \"&\":\n",
    "                conjunction_dict = conjunctions[key]\n",
    "                conjunction_dict[previous] = signal\n",
    "\n",
    "                signal_out = 1 - int(\n",
    "                    len(conjunction_dict)\n",
    "                    == len([a for a in conjunction_dict.values() if a == 1])\n",
    "                )\n",
    "\n",
    "                for n in current[1]:\n",
    "                    que.put((n, signal_out, key))\n",
    "\n",
    "            if current[0] == \"broadcaster\":\n",
    "\n",
    "                for n in current[1]:\n",
    "                    que.put((n, 0, key))\n",
    "            \n",
    "            if key == check and signal == 1 and previous in prev:\n",
    "                return button_press\n",
    "\n",
    "    return high, low\n",
    "\n",
    "np.prod(press_button(1000, check= \"tg\", prev = \"\"))"
   ]
  },
  {
   "cell_type": "code",
   "execution_count": 83,
   "metadata": {},
   "outputs": [
    {
     "data": {
      "text/plain": [
       "252667369442479"
      ]
     },
     "execution_count": 83,
     "metadata": {},
     "output_type": "execute_result"
    }
   ],
   "source": [
    "before_rx = [k for k,v in input.items() if 'rx' in v[1]][0]\n",
    "before_before_rx = [k for k,v in input.items() if before_rx in v[1]]\n",
    "np.prod([press_button(10000, check= before_rx, prev = a) + 1 for a in before_before_rx])"
   ]
  }
 ],
 "metadata": {
  "kernelspec": {
   "display_name": "base",
   "language": "python",
   "name": "python3"
  },
  "language_info": {
   "codemirror_mode": {
    "name": "ipython",
    "version": 3
   },
   "file_extension": ".py",
   "mimetype": "text/x-python",
   "name": "python",
   "nbconvert_exporter": "python",
   "pygments_lexer": "ipython3",
   "version": "3.11.4"
  },
  "orig_nbformat": 4
 },
 "nbformat": 4,
 "nbformat_minor": 2
}
