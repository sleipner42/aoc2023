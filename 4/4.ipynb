{
 "cells": [
  {
   "cell_type": "code",
   "execution_count": 60,
   "metadata": {},
   "outputs": [],
   "source": [
    "import re\n",
    "import pandas\n",
    "\n",
    "with open(\"data.txt\") as file:\n",
    "    data = file.read()\n",
    "\n",
    "data = data.splitlines()"
   ]
  },
  {
   "cell_type": "code",
   "execution_count": 99,
   "metadata": {},
   "outputs": [
    {
     "name": "stdout",
     "output_type": "stream",
     "text": [
      "24706\n"
     ]
    },
    {
     "data": {
      "text/plain": [
       "13114317"
      ]
     },
     "execution_count": 99,
     "metadata": {},
     "output_type": "execute_result"
    }
   ],
   "source": [
    "tot = 0\n",
    "winning_cards = {}\n",
    "nr_of_cards = {}\n",
    "\n",
    "for card_nr, line in enumerate(data):\n",
    "\n",
    "    winning, cards = map(str.split, line.split('|'))\n",
    "    nr = set(winning) & set(cards)\n",
    "    nr_of_cards[card_nr] = 1\n",
    "    winning_cards[card_nr + 1] = len(nr)\n",
    "\n",
    "print(sum([2**(n-1) for n in winning_cards.values() if n > 0]))\n",
    "\n",
    "for nr, winning in winning_cards.items():\n",
    "    for n in range(nr + 1, nr + winning + 1):\n",
    "        nr_of_cards[n] = nr_of_cards.get(n, 0) + 1 * nr_of_cards[nr]\n",
    "\n",
    "sum(nr_of_cards.values())"
   ]
  }
 ],
 "metadata": {
  "kernelspec": {
   "display_name": "Python 3",
   "language": "python",
   "name": "python3"
  },
  "language_info": {
   "codemirror_mode": {
    "name": "ipython",
    "version": 3
   },
   "file_extension": ".py",
   "mimetype": "text/x-python",
   "name": "python",
   "nbconvert_exporter": "python",
   "pygments_lexer": "ipython3",
   "version": "3.11.4"
  }
 },
 "nbformat": 4,
 "nbformat_minor": 2
}
