{
 "cells": [
  {
   "cell_type": "code",
   "execution_count": 106,
   "metadata": {},
   "outputs": [],
   "source": [
    "import re\n",
    "from collections import defaultdict, OrderedDict\n",
    "\n",
    "with open(\"aoc.txt\") as file:\n",
    "    data = file.read()\n",
    "\n",
    "data = re.sub(r\"\\n\", \"\", data).split(\",\")"
   ]
  },
  {
   "cell_type": "code",
   "execution_count": 107,
   "metadata": {},
   "outputs": [
    {
     "data": {
      "text/plain": [
       "509167"
      ]
     },
     "execution_count": 107,
     "metadata": {},
     "output_type": "execute_result"
    }
   ],
   "source": [
    "def get_hash(string):\n",
    "\n",
    "    total_val = 0\n",
    "\n",
    "    for c in string:\n",
    "        total_val += ord(c)\n",
    "        total_val *= 17\n",
    "        total_val %= 256\n",
    "\n",
    "    return total_val\n",
    "\n",
    "sum([get_hash(line) for line in data])"
   ]
  },
  {
   "cell_type": "code",
   "execution_count": 114,
   "metadata": {},
   "outputs": [
    {
     "data": {
      "text/plain": [
       "259333"
      ]
     },
     "execution_count": 114,
     "metadata": {},
     "output_type": "execute_result"
    }
   ],
   "source": [
    "bxs = defaultdict(dict)\n",
    "\n",
    "for ln in data:\n",
    "\n",
    "    lbl = re.search(\"\\w+\", ln).group()\n",
    "    bx = bxs[get_hash(lbl)]\n",
    "\n",
    "    if \"-\" in ln and lbl in bx:\n",
    "        del bx[lbl]\n",
    "    elif \"=\" in ln:\n",
    "        bx[lbl] = re.search(\"[0-9]+\", ln).group()\n",
    "sum(\n",
    "    [\n",
    "        sum([(k + 1) * (nr + 1) * (int(fl)) for nr, fl in enumerate(v.values())])\n",
    "        for k, v in bxs.items()\n",
    "    ]\n",
    ")"
   ]
  }
 ],
 "metadata": {
  "kernelspec": {
   "display_name": "base",
   "language": "python",
   "name": "python3"
  },
  "language_info": {
   "codemirror_mode": {
    "name": "ipython",
    "version": 3
   },
   "file_extension": ".py",
   "mimetype": "text/x-python",
   "name": "python",
   "nbconvert_exporter": "python",
   "pygments_lexer": "ipython3",
   "version": "3.11.4"
  },
  "orig_nbformat": 4
 },
 "nbformat": 4,
 "nbformat_minor": 2
}
