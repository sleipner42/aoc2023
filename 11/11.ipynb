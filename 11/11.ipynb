{
 "cells": [
  {
   "cell_type": "code",
   "execution_count": 108,
   "metadata": {},
   "outputs": [],
   "source": [
    "import re\n",
    "import numpy as np\n",
    "\n",
    "with open(\"data.txt\") as file:\n",
    "    data = file.read()"
   ]
  },
  {
   "cell_type": "code",
   "execution_count": 109,
   "metadata": {},
   "outputs": [
    {
     "data": {
      "text/plain": [
       "array([6931])"
      ]
     },
     "execution_count": 109,
     "metadata": {},
     "output_type": "execute_result"
    }
   ],
   "source": [
    "pipe_map = []\n",
    "length_map = []\n",
    "\n",
    "for line in  data.splitlines():\n",
    "    pipe_map.append(list(line))\n",
    "    length_map.append([0 for _ in range(len(line))])\n",
    "\n",
    "pipe_dict = {\n",
    "    \"|\": [(1, 0), (-1, 0)],\n",
    "    \"-\": [(0, 1), (0, -1)],\n",
    "    \"L\": [(-1, 0), (0, 1)],\n",
    "    \"J\": [(-1, 0), (0, -1)],\n",
    "    \"7\": [(1, 0), (0, -1)],\n",
    "    \"F\": [(1, 0), (0, 1)],\n",
    "}\n",
    "\n",
    "start_cord = [\n",
    "    (y, x)\n",
    "    for y, row in enumerate(pipe_map)\n",
    "    for x, cell in enumerate(row)\n",
    "    if cell == \"S\"\n",
    "][0]\n",
    "\n",
    "start_neighbours = [\n",
    "    (start_cord[0] + 1, start_cord[1]),\n",
    "    (start_cord[0] - 1, start_cord[1]),\n",
    "    (start_cord[0], start_cord[1] + 1),\n",
    "    (start_cord[0], start_cord[1] - 1),\n",
    "]\n",
    "\n",
    "possible_neighbours = []\n",
    "\n",
    "for cord in start_neighbours:\n",
    "    if cord[0] >= 0 and cord[1] >= 0:\n",
    "        pipe = pipe_map[cord[0]][cord[1]]\n",
    "        if pipe != \".\":\n",
    "            pipe_dirs = pipe_dict[pipe]\n",
    "            possible_cords = [\n",
    "                (cord[0] + pipe_dirs[0][0], cord[1] + pipe_dirs[0][1]),\n",
    "                (cord[0] + pipe_dirs[1][0], cord[1] + pipe_dirs[1][1]),\n",
    "            ]\n",
    "            if start_cord in possible_cords:\n",
    "                possible_neighbours.append(cord)\n",
    "\n",
    "\n",
    "def generate_lenghts(last_position, current_position):\n",
    "\n",
    "    count_map = length_map.copy()\n",
    "    steps = 1\n",
    "    path = []\n",
    "\n",
    "    while current_position != start_cord:\n",
    "\n",
    "        count_map[current_position[0]][current_position[1]] = steps\n",
    "\n",
    "        pipe = pipe_map[current_position[0]][current_position[1]]\n",
    "        #print(current_position, pipe)\n",
    "        \n",
    "        pipe_dirs = pipe_dict[pipe]\n",
    "        possible_cords = [\n",
    "            (current_position[0] + pipe_dirs[0][0], current_position[1] + pipe_dirs[0][1]),\n",
    "            (current_position[0] + pipe_dirs[1][0], current_position[1] + pipe_dirs[1][1]),\n",
    "        ]\n",
    "\n",
    "        possible_cords.remove(last_position)\n",
    "        path.append(last_position)\n",
    "        last_position = current_position\n",
    "        current_position = possible_cords[0]\n",
    "        steps += 1\n",
    "    \n",
    "    path.append(last_position)\n",
    "    return np.array(count_map), path\n",
    "\n",
    "path_1, p1 = generate_lenghts(start_cord, possible_neighbours[0])\n",
    "path_2, p2 = generate_lenghts(start_cord, possible_neighbours[1])\n",
    "\n",
    "path_1[(path_2 == path_1) & (path_1 != 0) & (path_2 != 0)]"
   ]
  },
  {
   "cell_type": "code",
   "execution_count": 126,
   "metadata": {},
   "outputs": [],
   "source": [
    "inside = set()\n",
    "outside = set()\n",
    "\n",
    "last_cord = p2[-1]\n",
    "path_set = set(p2)\n",
    "\n",
    "all_cords = {(y, x) for y, row in enumerate(pipe_map) for x, _ in enumerate(row)}\n",
    "\n",
    "left_dir = {\n",
    "    (1, 0): (0, 1),\n",
    "    (-1, 0): (0, -1),\n",
    "    (0, 1): (-1, 0),\n",
    "    (0, -1): (1, 0),\n",
    "}\n",
    "\n",
    "right_dir = {\n",
    "    (1, 0): (0, -1),\n",
    "    (-1, 0): (0, 1),\n",
    "    (0, 1): (1, 0),\n",
    "    (0, -1): (-1, 0),\n",
    "}\n",
    "\n",
    "def add_neighbours(point, current_set):\n",
    "\n",
    "    current_set.add(point)\n",
    "\n",
    "    neighbours = [\n",
    "        (point[0] + 1, point[1]),\n",
    "        (point[0] - 1, point[1]),\n",
    "        (point[0], point[1] + 1),\n",
    "        (point[0], point[1] - 1),\n",
    "    ]\n",
    "\n",
    "    neighbours = [\n",
    "        n\n",
    "        for n in neighbours\n",
    "        if n in all_cords\n",
    "    ]\n",
    "\n",
    "    for neigbour in neighbours:\n",
    "        if (neigbour not in current_set) and (neigbour not in path_set):\n",
    "            add_neighbours(neigbour, current_set)\n",
    "\n",
    "\n",
    "for current_cord in p2:\n",
    "\n",
    "    heading = np.array(current_cord) - np.array(last_cord)\n",
    "    r_dir = right_dir[tuple(heading)]\n",
    "    l_dir = left_dir[tuple(heading)]\n",
    "\n",
    "    if (\n",
    "        (left_y := l_dir[0] + current_cord[0]),\n",
    "        (left_x := l_dir[1] + current_cord[1]),\n",
    "    ) in all_cords:\n",
    "        if (left_y, left_x) not in path_set:\n",
    "            add_neighbours((left_y, left_x), inside)\n",
    "\n",
    "    if (\n",
    "        (rigth_y := r_dir[0] + current_cord[0]),\n",
    "        (right_x := r_dir[1] + current_cord[1]),\n",
    "    ) in all_cords:\n",
    "        if (rigth_y, right_x) not in path_set:\n",
    "            add_neighbours((rigth_y, right_x), outside)\n",
    "\n",
    "    last_cord = current_cord"
   ]
  },
  {
   "cell_type": "code",
   "execution_count": 134,
   "metadata": {},
   "outputs": [
    {
     "data": {
      "text/plain": [
       "357"
      ]
     },
     "execution_count": 134,
     "metadata": {},
     "output_type": "execute_result"
    }
   ],
   "source": [
    "len(outside)"
   ]
  }
 ],
 "metadata": {
  "kernelspec": {
   "display_name": "Python 3",
   "language": "python",
   "name": "python3"
  },
  "language_info": {
   "codemirror_mode": {
    "name": "ipython",
    "version": 3
   },
   "file_extension": ".py",
   "mimetype": "text/x-python",
   "name": "python",
   "nbconvert_exporter": "python",
   "pygments_lexer": "ipython3",
   "version": "3.11.4"
  }
 },
 "nbformat": 4,
 "nbformat_minor": 2
}
